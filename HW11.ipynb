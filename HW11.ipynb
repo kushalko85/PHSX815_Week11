{
  "nbformat": 4,
  "nbformat_minor": 0,
  "metadata": {
    "kernelspec": {
      "display_name": "Python 3",
      "language": "python",
      "name": "python3"
    },
    "language_info": {
      "codemirror_mode": {
        "name": "ipython",
        "version": 3
      },
      "file_extension": ".py",
      "mimetype": "text/x-python",
      "name": "python",
      "nbconvert_exporter": "python",
      "pygments_lexer": "ipython3",
      "version": "3.7.6"
    },
    "colab": {
      "name": "Copy of KerasTutorial.ipynb",
      "provenance": [],
      "include_colab_link": true
    }
  },
  "cells": [
    {
      "cell_type": "markdown",
      "metadata": {
        "id": "view-in-github",
        "colab_type": "text"
      },
      "source": [
        "<a href=\"https://colab.research.google.com/github/kushalko85/PHSX815_Week11/blob/main/HW11.ipynb\" target=\"_parent\"><img src=\"https://colab.research.google.com/assets/colab-badge.svg\" alt=\"Open In Colab\"/></a>"
      ]
    },
    {
      "cell_type": "markdown",
      "metadata": {
        "id": "hZQ3LCbPjAYe"
      },
      "source": [
        "## PHSX 815 Neural Network with Keras tutorial\n",
        "### How can we predict the quality of wine based on its physical characteristics?\n",
        "We will download the `wine_quality` dataset from Tensorflow (the Keras backend) to train a neural network to predict wine quality."
      ]
    },
    {
      "cell_type": "code",
      "metadata": {
        "id": "69jcwxL7jAYq"
      },
      "source": [
        "import matplotlib.pyplot as plt\n",
        "import seaborn as sns\n",
        "import numpy as np\n",
        "from sklearn.preprocessing import OneHotEncoder, MinMaxScaler\n",
        "from sklearn.metrics import confusion_matrix\n",
        "from sklearn.model_selection import train_test_split\n",
        "import pandas as pd\n",
        "\n",
        "import tensorflow as tf\n",
        "from tensorflow.keras.models import Sequential, Model\n",
        "from tensorflow.keras.layers import *\n",
        "# from tensorflow.keras.optimizers import SGD, Adam\n",
        "# from tensorflow.keras.activations import relu\n",
        "import tensorflow_datasets as tfds\n",
        "from IPython.core.interactiveshell import InteractiveShell\n",
        "InteractiveShell.ast_node_interactivity = \"all\""
      ],
      "execution_count": 125,
      "outputs": []
    },
    {
      "cell_type": "code",
      "metadata": {
        "id": "nFyNNkCkjAYt",
        "colab": {
          "base_uri": "https://localhost:8080/"
        },
        "outputId": "02e418c5-ea0a-41be-fcd5-f20021d21918"
      },
      "source": [
        "#if you want to load the data as tuples, you can use the as_supervised=True argument\n",
        "data_train = tfds.load('wine_quality',split='train',as_supervised=True)\n",
        "\n",
        "#looking at just one sample of our data\n",
        "pt = data_train.take(1)\n",
        "# type(pt)\n",
        "\n",
        "#can convert this TakeDataset object to a numpy array (can do this for the whole dataset too)\n",
        "print(\"Features and label for first entry\")\n",
        "for features, label in tfds.as_numpy(pt):\n",
        "    print(features,label)\n",
        "\n",
        "#we want to load dataset as a a dictionary of tf.Tensors (can't transform tuples to dataframe)\n",
        "data_train_white = tfds.load('wine_quality/white',split='train')\n",
        "data_train_red = tfds.load('wine_quality/red',split='train')\n",
        "\n",
        "#transform dictionary to dataframe - combining red and white wine\n",
        "df_white = tfds.as_dataframe(data_train_white)\n",
        "df_red = tfds.as_dataframe(data_train_red)\n",
        "df = pd.concat([df_white,df_red])\n",
        "\n",
        "print('number of samples',len(df['quality']))\n",
        "\n",
        "#what are our output possibilities?\n",
        "print('possible wine quality ratings',df['quality'].unique())"
      ],
      "execution_count": 126,
      "outputs": [
        {
          "output_type": "stream",
          "text": [
            "Features and label for first entry\n",
            "{'alcohol': 9.0, 'chlorides': 0.054, 'citric acid': 0.34, 'density': 1.0008, 'fixed acidity': 7.6, 'free sulfur dioxide': 44.0, 'pH': 3.22, 'residual sugar': 18.35, 'sulphates': 0.550000011920929, 'total sulfur dioxide': 197.0, 'volatile acidity': 0.32} 5\n",
            "number of samples 6497\n",
            "possible wine quality ratings [5 6 4 8 7 3 9]\n"
          ],
          "name": "stdout"
        }
      ]
    },
    {
      "cell_type": "code",
      "metadata": {
        "id": "FXRm0LcOjAYv",
        "colab": {
          "base_uri": "https://localhost:8080/"
        },
        "outputId": "6f60df99-2ca1-4680-f603-fc71f62cf3ee"
      },
      "source": [
        "#do we have any missing data (empty or NaN entries in features or labels)?\n",
        "dataNans = df.isnull().values.any()\n",
        "if not dataNans:\n",
        "    print(\"all good!\")"
      ],
      "execution_count": 127,
      "outputs": [
        {
          "output_type": "stream",
          "text": [
            "all good!\n"
          ],
          "name": "stdout"
        }
      ]
    },
    {
      "cell_type": "markdown",
      "metadata": {
        "id": "tcReS-UsjAYw"
      },
      "source": [
        "### Preprocessing our labels\n",
        "Although this may seem like a regression task for a neural network because we are predicting a number (wine quality), the labels are actually *categorical* not *continuous*. If you look at the labels, you see that they are integer values between 5 and 9. Because this is a classification problem, we need to one-hot encode our labels. This means taking our possible outcomes and turning them into arrays of a 1 and 0's. The index of the 1 in the array will tell us which class is which. So, for example, 5 becomes [1,0,0,0,0], 6 becomes [0,1,0,0,0] and so on. We can use a function from sklearn to do this automatically."
      ]
    },
    {
      "cell_type": "markdown",
      "metadata": {
        "id": "gxQlrooKjAYx"
      },
      "source": [
        "this dataset unfortunately only gives us training data - but we can set aside a portion for testing our network on. in practice, you don't want to test your network on data it has already seen (is it really a prediction if you use your model on data it was fitted to?) but, for educational purposes, we can ~randomly sample our data and call it ~iid.\n",
        "Here, I combine the red and white wine datasets for increased statistics. What happens if you train networks on these datasets separately? Or what happens if you use one dataset to train and one to test?"
      ]
    },
    {
      "cell_type": "code",
      "metadata": {
        "id": "EKp4MsyljAYx",
        "colab": {
          "base_uri": "https://localhost:8080/",
          "height": 268
        },
        "outputId": "f432675a-17fc-40df-fc7e-de96bcce4783"
      },
      "source": [
        "#it's helpful to separate our input features from our target features (quality) \n",
        "#so we can later only transform our inputs without changing our labels\n",
        "labels = df['quality']\n",
        "df = df.drop(labels='quality',axis=1)\n",
        "labels.unique()\n",
        "\n",
        "enc = OneHotEncoder(sparse=False)\n",
        "labels = enc.fit_transform(labels.to_numpy().reshape(-1,1))\n",
        "\n",
        "#make our test data\n",
        "df, df_test, labels, df_testLabels = train_test_split(df,labels,test_size=0.1)\n",
        "\n",
        "#look at the first 5 entries\n",
        "df.head()"
      ],
      "execution_count": 128,
      "outputs": [
        {
          "output_type": "execute_result",
          "data": {
            "text/plain": [
              "array([5, 6, 4, 8, 7, 3, 9])"
            ]
          },
          "metadata": {
            "tags": []
          },
          "execution_count": 128
        },
        {
          "output_type": "execute_result",
          "data": {
            "text/html": [
              "<div>\n",
              "<style scoped>\n",
              "    .dataframe tbody tr th:only-of-type {\n",
              "        vertical-align: middle;\n",
              "    }\n",
              "\n",
              "    .dataframe tbody tr th {\n",
              "        vertical-align: top;\n",
              "    }\n",
              "\n",
              "    .dataframe thead th {\n",
              "        text-align: right;\n",
              "    }\n",
              "</style>\n",
              "<table border=\"1\" class=\"dataframe\">\n",
              "  <thead>\n",
              "    <tr style=\"text-align: right;\">\n",
              "      <th></th>\n",
              "      <th>features/alcohol</th>\n",
              "      <th>features/chlorides</th>\n",
              "      <th>features/citric acid</th>\n",
              "      <th>features/density</th>\n",
              "      <th>features/fixed acidity</th>\n",
              "      <th>features/free sulfur dioxide</th>\n",
              "      <th>features/pH</th>\n",
              "      <th>features/residual sugar</th>\n",
              "      <th>features/sulphates</th>\n",
              "      <th>features/total sulfur dioxide</th>\n",
              "      <th>features/volatile acidity</th>\n",
              "    </tr>\n",
              "  </thead>\n",
              "  <tbody>\n",
              "    <tr>\n",
              "      <th>1293</th>\n",
              "      <td>8.8</td>\n",
              "      <td>0.050</td>\n",
              "      <td>0.74</td>\n",
              "      <td>0.99800</td>\n",
              "      <td>7.2</td>\n",
              "      <td>56.0</td>\n",
              "      <td>3.03</td>\n",
              "      <td>13.6</td>\n",
              "      <td>0.44</td>\n",
              "      <td>162.0</td>\n",
              "      <td>0.26</td>\n",
              "    </tr>\n",
              "    <tr>\n",
              "      <th>4134</th>\n",
              "      <td>11.0</td>\n",
              "      <td>0.048</td>\n",
              "      <td>0.32</td>\n",
              "      <td>0.99178</td>\n",
              "      <td>8.4</td>\n",
              "      <td>59.0</td>\n",
              "      <td>3.10</td>\n",
              "      <td>1.3</td>\n",
              "      <td>0.55</td>\n",
              "      <td>113.0</td>\n",
              "      <td>0.23</td>\n",
              "    </tr>\n",
              "    <tr>\n",
              "      <th>2138</th>\n",
              "      <td>10.2</td>\n",
              "      <td>0.054</td>\n",
              "      <td>0.36</td>\n",
              "      <td>0.99578</td>\n",
              "      <td>7.7</td>\n",
              "      <td>25.0</td>\n",
              "      <td>3.25</td>\n",
              "      <td>5.9</td>\n",
              "      <td>0.54</td>\n",
              "      <td>148.0</td>\n",
              "      <td>0.16</td>\n",
              "    </tr>\n",
              "    <tr>\n",
              "      <th>4192</th>\n",
              "      <td>8.7</td>\n",
              "      <td>0.041</td>\n",
              "      <td>0.78</td>\n",
              "      <td>0.99838</td>\n",
              "      <td>7.5</td>\n",
              "      <td>53.0</td>\n",
              "      <td>2.98</td>\n",
              "      <td>12.1</td>\n",
              "      <td>0.44</td>\n",
              "      <td>161.0</td>\n",
              "      <td>0.28</td>\n",
              "    </tr>\n",
              "    <tr>\n",
              "      <th>3221</th>\n",
              "      <td>10.0</td>\n",
              "      <td>0.046</td>\n",
              "      <td>0.44</td>\n",
              "      <td>0.99700</td>\n",
              "      <td>7.5</td>\n",
              "      <td>65.0</td>\n",
              "      <td>3.17</td>\n",
              "      <td>11.3</td>\n",
              "      <td>0.45</td>\n",
              "      <td>146.0</td>\n",
              "      <td>0.17</td>\n",
              "    </tr>\n",
              "  </tbody>\n",
              "</table>\n",
              "</div>"
            ],
            "text/plain": [
              "      features/alcohol  ...  features/volatile acidity\n",
              "1293               8.8  ...                       0.26\n",
              "4134              11.0  ...                       0.23\n",
              "2138              10.2  ...                       0.16\n",
              "4192               8.7  ...                       0.28\n",
              "3221              10.0  ...                       0.17\n",
              "\n",
              "[5 rows x 11 columns]"
            ]
          },
          "metadata": {
            "tags": []
          },
          "execution_count": 128
        }
      ]
    },
    {
      "cell_type": "markdown",
      "metadata": {
        "id": "uBioQa3ZjAYy"
      },
      "source": [
        "### some questions to consider:\n",
        "- how was this data obtained? what goes into engineering the features? what does \"quality\" mean?\n",
        "- do you have to normalize your features?\n",
        "- are there any correlations among features? is this expected? how can we encode this information to the NN or decouple these features?\n",
        "- what does the data look like?\n",
        "- do we have any missing or NaN entries?"
      ]
    },
    {
      "cell_type": "markdown",
      "metadata": {
        "id": "uzk8GJfBjAYz"
      },
      "source": [
        "let's examine the data to see what kinds of transformations we need to make for preprocessing"
      ]
    },
    {
      "cell_type": "code",
      "metadata": {
        "id": "DMFT_d8ejAY0",
        "colab": {
          "base_uri": "https://localhost:8080/",
          "height": 341
        },
        "outputId": "863f6a5a-b01d-4b54-c665-cf2e4442ace2"
      },
      "source": [
        "df.describe()"
      ],
      "execution_count": 129,
      "outputs": [
        {
          "output_type": "execute_result",
          "data": {
            "text/html": [
              "<div>\n",
              "<style scoped>\n",
              "    .dataframe tbody tr th:only-of-type {\n",
              "        vertical-align: middle;\n",
              "    }\n",
              "\n",
              "    .dataframe tbody tr th {\n",
              "        vertical-align: top;\n",
              "    }\n",
              "\n",
              "    .dataframe thead th {\n",
              "        text-align: right;\n",
              "    }\n",
              "</style>\n",
              "<table border=\"1\" class=\"dataframe\">\n",
              "  <thead>\n",
              "    <tr style=\"text-align: right;\">\n",
              "      <th></th>\n",
              "      <th>features/alcohol</th>\n",
              "      <th>features/chlorides</th>\n",
              "      <th>features/citric acid</th>\n",
              "      <th>features/density</th>\n",
              "      <th>features/fixed acidity</th>\n",
              "      <th>features/free sulfur dioxide</th>\n",
              "      <th>features/pH</th>\n",
              "      <th>features/residual sugar</th>\n",
              "      <th>features/sulphates</th>\n",
              "      <th>features/total sulfur dioxide</th>\n",
              "      <th>features/volatile acidity</th>\n",
              "    </tr>\n",
              "  </thead>\n",
              "  <tbody>\n",
              "    <tr>\n",
              "      <th>count</th>\n",
              "      <td>5847.000000</td>\n",
              "      <td>5847.000000</td>\n",
              "      <td>5847.000000</td>\n",
              "      <td>5847.000000</td>\n",
              "      <td>5847.000000</td>\n",
              "      <td>5847.000000</td>\n",
              "      <td>5847.000000</td>\n",
              "      <td>5847.000000</td>\n",
              "      <td>5847.000000</td>\n",
              "      <td>5847.000000</td>\n",
              "      <td>5847.000000</td>\n",
              "    </tr>\n",
              "    <tr>\n",
              "      <th>mean</th>\n",
              "      <td>10.490166</td>\n",
              "      <td>0.056277</td>\n",
              "      <td>0.319097</td>\n",
              "      <td>0.994694</td>\n",
              "      <td>7.217642</td>\n",
              "      <td>30.345134</td>\n",
              "      <td>3.218332</td>\n",
              "      <td>5.427416</td>\n",
              "      <td>0.531319</td>\n",
              "      <td>115.219856</td>\n",
              "      <td>0.339877</td>\n",
              "    </tr>\n",
              "    <tr>\n",
              "      <th>std</th>\n",
              "      <td>1.193666</td>\n",
              "      <td>0.035892</td>\n",
              "      <td>0.146448</td>\n",
              "      <td>0.003003</td>\n",
              "      <td>1.291859</td>\n",
              "      <td>17.438890</td>\n",
              "      <td>0.160772</td>\n",
              "      <td>4.770312</td>\n",
              "      <td>0.149626</td>\n",
              "      <td>56.280892</td>\n",
              "      <td>0.165518</td>\n",
              "    </tr>\n",
              "    <tr>\n",
              "      <th>min</th>\n",
              "      <td>8.000000</td>\n",
              "      <td>0.009000</td>\n",
              "      <td>0.000000</td>\n",
              "      <td>0.987110</td>\n",
              "      <td>3.900000</td>\n",
              "      <td>1.000000</td>\n",
              "      <td>2.720000</td>\n",
              "      <td>0.600000</td>\n",
              "      <td>0.220000</td>\n",
              "      <td>6.000000</td>\n",
              "      <td>0.080000</td>\n",
              "    </tr>\n",
              "    <tr>\n",
              "      <th>25%</th>\n",
              "      <td>9.500000</td>\n",
              "      <td>0.038000</td>\n",
              "      <td>0.250000</td>\n",
              "      <td>0.992320</td>\n",
              "      <td>6.400000</td>\n",
              "      <td>17.000000</td>\n",
              "      <td>3.110000</td>\n",
              "      <td>1.800000</td>\n",
              "      <td>0.430000</td>\n",
              "      <td>77.000000</td>\n",
              "      <td>0.230000</td>\n",
              "    </tr>\n",
              "    <tr>\n",
              "      <th>50%</th>\n",
              "      <td>10.300000</td>\n",
              "      <td>0.047000</td>\n",
              "      <td>0.310000</td>\n",
              "      <td>0.994880</td>\n",
              "      <td>7.000000</td>\n",
              "      <td>29.000000</td>\n",
              "      <td>3.210000</td>\n",
              "      <td>3.000000</td>\n",
              "      <td>0.510000</td>\n",
              "      <td>118.000000</td>\n",
              "      <td>0.290000</td>\n",
              "    </tr>\n",
              "    <tr>\n",
              "      <th>75%</th>\n",
              "      <td>11.300000</td>\n",
              "      <td>0.065000</td>\n",
              "      <td>0.390000</td>\n",
              "      <td>0.996945</td>\n",
              "      <td>7.700000</td>\n",
              "      <td>41.000000</td>\n",
              "      <td>3.320000</td>\n",
              "      <td>8.100000</td>\n",
              "      <td>0.600000</td>\n",
              "      <td>155.000000</td>\n",
              "      <td>0.410000</td>\n",
              "    </tr>\n",
              "    <tr>\n",
              "      <th>max</th>\n",
              "      <td>14.900000</td>\n",
              "      <td>0.611000</td>\n",
              "      <td>1.660000</td>\n",
              "      <td>1.038980</td>\n",
              "      <td>15.900000</td>\n",
              "      <td>146.500000</td>\n",
              "      <td>4.010000</td>\n",
              "      <td>65.800003</td>\n",
              "      <td>2.000000</td>\n",
              "      <td>366.500000</td>\n",
              "      <td>1.580000</td>\n",
              "    </tr>\n",
              "  </tbody>\n",
              "</table>\n",
              "</div>"
            ],
            "text/plain": [
              "       features/alcohol  ...  features/volatile acidity\n",
              "count       5847.000000  ...                5847.000000\n",
              "mean          10.490166  ...                   0.339877\n",
              "std            1.193666  ...                   0.165518\n",
              "min            8.000000  ...                   0.080000\n",
              "25%            9.500000  ...                   0.230000\n",
              "50%           10.300000  ...                   0.290000\n",
              "75%           11.300000  ...                   0.410000\n",
              "max           14.900000  ...                   1.580000\n",
              "\n",
              "[8 rows x 11 columns]"
            ]
          },
          "metadata": {
            "tags": []
          },
          "execution_count": 129
        }
      ]
    },
    {
      "cell_type": "markdown",
      "metadata": {
        "id": "UQ3IurQJjAY0"
      },
      "source": [
        "### Visualizing data\n",
        "If you want a cool and easy way to visualize not only the features, but also the correlations between features, you can use the following seaborn function, which will display the individual features on the diagonal of the subplots and the correlations between features\n",
        "\n",
        "`pl = sns.pairplot(df[df.columns], diag_kind='kde')`"
      ]
    },
    {
      "cell_type": "code",
      "metadata": {
        "id": "1bjgbB3UjAY2",
        "colab": {
          "base_uri": "https://localhost:8080/",
          "height": 1000
        },
        "outputId": "f42bd925-a773-4319-8f54-9de05d8e1d87"
      },
      "source": [
        "#visualizing our input features\n",
        "nFeatures = len(df.columns)\n",
        "nCols = 3\n",
        "nRows = int(np.ceil(nFeatures/nCols))\n",
        "cols = df.columns\n",
        "fig, axs = plt.subplots(nRows,nCols,figsize=(15,20))\n",
        "# for i, ax in enumerate(axs)\n",
        "col = 0\n",
        "for i in range(nRows):\n",
        "    for j in range(nCols):\n",
        "        if col >= nFeatures:\n",
        "            break\n",
        "        h = axs[i,j].hist(df[cols[col]])\n",
        "        h = axs[i,j].set_title(cols[col])\n",
        "        col += 1"
      ],
      "execution_count": 130,
      "outputs": [
        {
          "output_type": "display_data",
          "data": {
            "image/png": "[encoded data removed]",
            "text/plain": [
              "<Figure size 1080x1440 with 12 Axes>"
            ]
          },
          "metadata": {
            "tags": [],
            "needs_background": "light"
          }
        }
      ]
    },
    {
      "cell_type": "markdown",
      "metadata": {
        "id": "yVt6wCjsjAY4"
      },
      "source": [
        "It looks like there are two types of sulfur dioxide features: total sulfur dioxide and free sulfur dioxide. I'm not entirely sure what sulfur dioxide is (I am neither a chemist nor a sommelier) so I'm curious if there is a correlation between these features. "
      ]
    },
    {
      "cell_type": "code",
      "metadata": {
        "id": "KQIsabMYjAY5",
        "colab": {
          "base_uri": "https://localhost:8080/",
          "height": 282
        },
        "outputId": "1c10cead-0328-4236-afc7-a032a5b292ab"
      },
      "source": [
        "plt.scatter(df['features/free sulfur dioxide'],df['features/total sulfur dioxide'])"
      ],
      "execution_count": 131,
      "outputs": [
        {
          "output_type": "execute_result",
          "data": {
            "text/plain": [
              "<matplotlib.collections.PathCollection at 0x7ff6f9c7b650>"
            ]
          },
          "metadata": {
            "tags": []
          },
          "execution_count": 131
        },
        {
          "output_type": "display_data",
          "data": {
            "image/png": "[encoded data removed]",
            "text/plain": [
              "<Figure size 432x288 with 1 Axes>"
            ]
          },
          "metadata": {
            "tags": [],
            "needs_background": "light"
          }
        }
      ]
    },
    {
      "cell_type": "markdown",
      "metadata": {
        "id": "W27YHkkkjAY5"
      },
      "source": [
        "It looks like there is some correlation between these features. If I had to guess, I would say \"free sulfur dioxide\" is a subset of \"total sulfur dioxide\" but I'm not sure how or even if either of these features would affect the wine quality. This is where domain specific knowledge would be helpful! Since I have a degree in physics and not wine studies (contrary to what my weekend activities may imply) I am going to see what happens when we include both of these features in our network."
      ]
    },
    {
      "cell_type": "markdown",
      "metadata": {
        "id": "AUPBaVdLjAY6"
      },
      "source": [
        "This was just a cursory look at our data. In reality, data scientists will spend most of their time feature engineering, fixing incomplete datasets, cleaning data, etc. Feel free to do more exploratory analysis on the data before you pass it through to a network!"
      ]
    },
    {
      "cell_type": "markdown",
      "metadata": {
        "id": "23gxeCABjAY6"
      },
      "source": [
        "## Let's build our network!\n",
        "We want to build a simple DNN to essentially perform a categorization. Let's start with something simple: only a couple hidden layers and a handful of neurons. Of course, in accordance with the Universal Approximation Theorem, any function can be approximated arbitrarily well with an arbitrarily large number of layers (Lu et. al. 2017) or arbitrarily large number of neurons (Cybenko 1989). Does the network perform better or worse with an increase in layers or neurons?"
      ]
    },
    {
      "cell_type": "code",
      "metadata": {
        "id": "_GC_RPq3jAY7",
        "colab": {
          "base_uri": "https://localhost:8080/"
        },
        "outputId": "21348ab7-2c70-4dfd-f805-247b38c164f4"
      },
      "source": [
        "cols = df.columns\n",
        "nClasses = len(labels[0])\n",
        "\n",
        "#using Keras's Sequential model - https://keras.io/api/models/sequential/\n",
        "model = Sequential()\n",
        "#add input layer\n",
        "model.add(Input(shape=(len(cols),))) #the input layer shape should match the number of features we have\n",
        "#add first layer of fully connected neurons\n",
        "model.add(Dense(32,activation='relu'))\n",
        "#add second layer (first hidden layer)\n",
        "model.add(Dense(32,activation='relu'))\n",
        "#and one more because why not\n",
        "model.add(Dense(32,activation='relu'))\n",
        "#new layer\n",
        "#model.add(Dense(32,activation='relu'))\n",
        "#finally, our output layer should have only one neuron because we are trying to predict only one number\n",
        "#notice how there is a different activation function in this layer\n",
        "#this is because we want our outputs for each class to be a probability\n",
        "model.add(Dense(nClasses,activation='softmax'))\n",
        "\n",
        "#compile our model - set our loss metric (categorical cross entropy) and optimizer (stochastic gradient descent)\n",
        "#how does the model performance change with different optimizers (ie AdaGrad, SGD, etc.)?\n",
        "model.compile(loss='CategoricalCrossentropy',optimizer='Adam',metrics=['accuracy'])\n",
        "\n",
        "#let's see a summary of our model\n",
        "model.summary()"
      ],
      "execution_count": 132,
      "outputs": [
        {
          "output_type": "stream",
          "text": [
            "Model: \"sequential_9\"\n",
            "_________________________________________________________________\n",
            "Layer (type)                 Output Shape              Param #   \n",
            "=================================================================\n",
            "dense_39 (Dense)             (None, 32)                384       \n",
            "_________________________________________________________________\n",
            "dense_40 (Dense)             (None, 32)                1056      \n",
            "_________________________________________________________________\n",
            "dense_41 (Dense)             (None, 32)                1056      \n",
            "_________________________________________________________________\n",
            "dense_42 (Dense)             (None, 7)                 231       \n",
            "=================================================================\n",
            "Total params: 2,727\n",
            "Trainable params: 2,727\n",
            "Non-trainable params: 0\n",
            "_________________________________________________________________\n"
          ],
          "name": "stdout"
        }
      ]
    },
    {
      "cell_type": "markdown",
      "metadata": {
        "id": "UIcsXiEIjAY8"
      },
      "source": [
        "As shown above, we have a network with four layers, 128 neurons/layer, for a total of ~50k trainable parameters (remember: parameters are the biases and weights that the network learns). Imagine how many parameters a large, complex network at Google has!"
      ]
    },
    {
      "cell_type": "markdown",
      "metadata": {
        "id": "e5EllAPLjAY8"
      },
      "source": [
        "### the same model can be built using the generic Model class and slightly different syntax\n",
        "`\n",
        "inputs = tf.keras.Input(shape=(len(cols),))\n",
        "outputs_L1 = Dense(64, activation='relu')(inputs)\n",
        "outputs_L2 = Dense(64, activation='relu')(outputs_L1)\n",
        "outputs_L3 = Dense(64, activation='relu')(outputs_L2)\n",
        "pred = Dense(1)(outputs_L3)\n",
        "model = Model(inputs=inputs,outputs=pred)\n",
        "`"
      ]
    },
    {
      "cell_type": "markdown",
      "metadata": {
        "id": "BRrNe5yojAY8"
      },
      "source": [
        "### Training our model\n",
        "\n",
        "Let's give our model all the input features (df), the corresponding labels (labels)\n",
        "\n",
        "There is a 20% validation split, which means that 80% of our data will be used to train the model parameters\n",
        "while 20% of it will be saved to \"check\" our answers. This is data that the model has not seen (been trained on) so the performance on the validation data should give us an idea of if the model is over- or underfitting.\n",
        "\n",
        "We will train for 100 epochs, which means that the entire dataset will be passed through the whole network 100 times. Our batch size is 20, meaning that 20 samples at a time are passed to the network before the parameters are updated. The `shuffle` argument ensures that our data is shuffled before the beginning of each epoch to reduce spurious learned correlations. What happens if you let the model run for more epochs?\n"
      ]
    },
    {
      "cell_type": "code",
      "metadata": {
        "id": "o_GgfTGmjAY9",
        "colab": {
          "base_uri": "https://localhost:8080/"
        },
        "outputId": "508b489c-92c7-4629-b3c8-68af63a0813b"
      },
      "source": [
        "history = model.fit(\n",
        "    df, labels,\n",
        "    validation_split=0.2,\n",
        "    verbose=1, epochs=125, batch_size=125, shuffle=True)"
      ],
      "execution_count": 133,
      "outputs": [
        {
          "output_type": "stream",
          "text": [
            "Epoch 1/125\n",
            "38/38 [==============================] - 1s 5ms/step - loss: 20.2517 - accuracy: 0.0623 - val_loss: 2.7858 - val_accuracy: 0.3897\n",
            "Epoch 2/125\n",
            "38/38 [==============================] - 0s 3ms/step - loss: 1.9085 - accuracy: 0.3898 - val_loss: 1.4241 - val_accuracy: 0.4128\n",
            "Epoch 3/125\n",
            "38/38 [==============================] - 0s 3ms/step - loss: 1.2960 - accuracy: 0.4337 - val_loss: 1.3589 - val_accuracy: 0.4162\n",
            "Epoch 4/125\n",
            "38/38 [==============================] - 0s 3ms/step - loss: 1.2613 - accuracy: 0.4356 - val_loss: 1.3378 - val_accuracy: 0.4120\n",
            "Epoch 5/125\n",
            "38/38 [==============================] - 0s 3ms/step - loss: 1.2704 - accuracy: 0.4378 - val_loss: 1.3587 - val_accuracy: 0.4068\n",
            "Epoch 6/125\n",
            "38/38 [==============================] - 0s 3ms/step - loss: 1.2613 - accuracy: 0.4447 - val_loss: 1.3411 - val_accuracy: 0.4239\n",
            "Epoch 7/125\n",
            "38/38 [==============================] - 0s 3ms/step - loss: 1.2407 - accuracy: 0.4494 - val_loss: 1.3307 - val_accuracy: 0.4000\n",
            "Epoch 8/125\n",
            "38/38 [==============================] - 0s 3ms/step - loss: 1.2419 - accuracy: 0.4392 - val_loss: 1.3027 - val_accuracy: 0.4299\n",
            "Epoch 9/125\n",
            "38/38 [==============================] - 0s 3ms/step - loss: 1.2517 - accuracy: 0.4444 - val_loss: 1.3309 - val_accuracy: 0.4077\n",
            "Epoch 10/125\n",
            "38/38 [==============================] - 0s 3ms/step - loss: 1.2214 - accuracy: 0.4581 - val_loss: 1.3006 - val_accuracy: 0.4145\n",
            "Epoch 11/125\n",
            "38/38 [==============================] - 0s 3ms/step - loss: 1.2059 - accuracy: 0.4596 - val_loss: 1.2979 - val_accuracy: 0.4333\n",
            "Epoch 12/125\n",
            "38/38 [==============================] - 0s 3ms/step - loss: 1.2156 - accuracy: 0.4623 - val_loss: 1.2874 - val_accuracy: 0.4359\n",
            "Epoch 13/125\n",
            "38/38 [==============================] - 0s 3ms/step - loss: 1.2315 - accuracy: 0.4627 - val_loss: 1.2969 - val_accuracy: 0.4274\n",
            "Epoch 14/125\n",
            "38/38 [==============================] - 0s 3ms/step - loss: 1.2239 - accuracy: 0.4509 - val_loss: 1.2810 - val_accuracy: 0.4376\n",
            "Epoch 15/125\n",
            "38/38 [==============================] - 0s 3ms/step - loss: 1.2009 - accuracy: 0.4649 - val_loss: 1.2755 - val_accuracy: 0.4453\n",
            "Epoch 16/125\n",
            "38/38 [==============================] - 0s 3ms/step - loss: 1.1993 - accuracy: 0.4696 - val_loss: 1.2897 - val_accuracy: 0.4103\n",
            "Epoch 17/125\n",
            "38/38 [==============================] - 0s 3ms/step - loss: 1.2199 - accuracy: 0.4587 - val_loss: 1.2789 - val_accuracy: 0.4333\n",
            "Epoch 18/125\n",
            "38/38 [==============================] - 0s 3ms/step - loss: 1.1955 - accuracy: 0.4769 - val_loss: 1.2807 - val_accuracy: 0.4479\n",
            "Epoch 19/125\n",
            "38/38 [==============================] - 0s 3ms/step - loss: 1.1903 - accuracy: 0.4696 - val_loss: 1.2642 - val_accuracy: 0.4376\n",
            "Epoch 20/125\n",
            "38/38 [==============================] - 0s 3ms/step - loss: 1.2055 - accuracy: 0.4586 - val_loss: 1.3346 - val_accuracy: 0.4376\n",
            "Epoch 21/125\n",
            "38/38 [==============================] - 0s 3ms/step - loss: 1.2023 - accuracy: 0.4669 - val_loss: 1.2616 - val_accuracy: 0.4632\n",
            "Epoch 22/125\n",
            "38/38 [==============================] - 0s 3ms/step - loss: 1.1793 - accuracy: 0.4745 - val_loss: 1.2990 - val_accuracy: 0.4487\n",
            "Epoch 23/125\n",
            "38/38 [==============================] - 0s 3ms/step - loss: 1.2124 - accuracy: 0.4770 - val_loss: 1.2546 - val_accuracy: 0.4325\n",
            "Epoch 24/125\n",
            "38/38 [==============================] - 0s 2ms/step - loss: 1.1882 - accuracy: 0.4700 - val_loss: 1.2634 - val_accuracy: 0.4581\n",
            "Epoch 25/125\n",
            "38/38 [==============================] - 0s 2ms/step - loss: 1.1747 - accuracy: 0.4793 - val_loss: 1.2986 - val_accuracy: 0.4368\n",
            "Epoch 26/125\n",
            "38/38 [==============================] - 0s 3ms/step - loss: 1.1927 - accuracy: 0.4686 - val_loss: 1.2635 - val_accuracy: 0.4547\n",
            "Epoch 27/125\n",
            "38/38 [==============================] - 0s 3ms/step - loss: 1.1675 - accuracy: 0.4934 - val_loss: 1.2447 - val_accuracy: 0.4590\n",
            "Epoch 28/125\n",
            "38/38 [==============================] - 0s 3ms/step - loss: 1.1567 - accuracy: 0.4986 - val_loss: 1.2599 - val_accuracy: 0.4359\n",
            "Epoch 29/125\n",
            "38/38 [==============================] - 0s 3ms/step - loss: 1.1512 - accuracy: 0.4915 - val_loss: 1.2198 - val_accuracy: 0.4692\n",
            "Epoch 30/125\n",
            "38/38 [==============================] - 0s 3ms/step - loss: 1.1600 - accuracy: 0.4967 - val_loss: 1.2206 - val_accuracy: 0.4496\n",
            "Epoch 31/125\n",
            "38/38 [==============================] - 0s 3ms/step - loss: 1.1298 - accuracy: 0.4992 - val_loss: 1.2236 - val_accuracy: 0.4547\n",
            "Epoch 32/125\n",
            "38/38 [==============================] - 0s 3ms/step - loss: 1.1355 - accuracy: 0.4998 - val_loss: 1.2120 - val_accuracy: 0.4658\n",
            "Epoch 33/125\n",
            "38/38 [==============================] - 0s 3ms/step - loss: 1.1329 - accuracy: 0.5066 - val_loss: 1.2129 - val_accuracy: 0.4829\n",
            "Epoch 34/125\n",
            "38/38 [==============================] - 0s 3ms/step - loss: 1.1318 - accuracy: 0.5036 - val_loss: 1.2197 - val_accuracy: 0.4470\n",
            "Epoch 35/125\n",
            "38/38 [==============================] - 0s 3ms/step - loss: 1.1382 - accuracy: 0.5067 - val_loss: 1.2166 - val_accuracy: 0.4675\n",
            "Epoch 36/125\n",
            "38/38 [==============================] - 0s 3ms/step - loss: 1.1073 - accuracy: 0.5167 - val_loss: 1.2193 - val_accuracy: 0.4444\n",
            "Epoch 37/125\n",
            "38/38 [==============================] - 0s 3ms/step - loss: 1.1296 - accuracy: 0.4945 - val_loss: 1.2306 - val_accuracy: 0.4769\n",
            "Epoch 38/125\n",
            "38/38 [==============================] - 0s 3ms/step - loss: 1.1005 - accuracy: 0.5278 - val_loss: 1.1908 - val_accuracy: 0.4872\n",
            "Epoch 39/125\n",
            "38/38 [==============================] - 0s 2ms/step - loss: 1.1137 - accuracy: 0.5172 - val_loss: 1.1943 - val_accuracy: 0.4667\n",
            "Epoch 40/125\n",
            "38/38 [==============================] - 0s 3ms/step - loss: 1.1064 - accuracy: 0.5371 - val_loss: 1.2184 - val_accuracy: 0.4829\n",
            "Epoch 41/125\n",
            "38/38 [==============================] - 0s 3ms/step - loss: 1.1402 - accuracy: 0.4949 - val_loss: 1.1869 - val_accuracy: 0.4795\n",
            "Epoch 42/125\n",
            "38/38 [==============================] - 0s 3ms/step - loss: 1.1027 - accuracy: 0.5283 - val_loss: 1.1826 - val_accuracy: 0.4752\n",
            "Epoch 43/125\n",
            "38/38 [==============================] - 0s 3ms/step - loss: 1.0968 - accuracy: 0.5262 - val_loss: 1.1849 - val_accuracy: 0.4897\n",
            "Epoch 44/125\n",
            "38/38 [==============================] - 0s 3ms/step - loss: 1.1192 - accuracy: 0.5266 - val_loss: 1.1808 - val_accuracy: 0.4940\n",
            "Epoch 45/125\n",
            "38/38 [==============================] - 0s 3ms/step - loss: 1.0885 - accuracy: 0.5132 - val_loss: 1.1970 - val_accuracy: 0.4718\n",
            "Epoch 46/125\n",
            "38/38 [==============================] - 0s 3ms/step - loss: 1.0889 - accuracy: 0.5164 - val_loss: 1.1780 - val_accuracy: 0.4778\n",
            "Epoch 47/125\n",
            "38/38 [==============================] - 0s 3ms/step - loss: 1.1017 - accuracy: 0.5204 - val_loss: 1.2240 - val_accuracy: 0.4752\n",
            "Epoch 48/125\n",
            "38/38 [==============================] - 0s 2ms/step - loss: 1.1082 - accuracy: 0.5083 - val_loss: 1.1690 - val_accuracy: 0.4863\n",
            "Epoch 49/125\n",
            "38/38 [==============================] - 0s 3ms/step - loss: 1.0727 - accuracy: 0.5344 - val_loss: 1.1832 - val_accuracy: 0.4855\n",
            "Epoch 50/125\n",
            "38/38 [==============================] - 0s 3ms/step - loss: 1.0722 - accuracy: 0.5423 - val_loss: 1.1857 - val_accuracy: 0.4906\n",
            "Epoch 51/125\n",
            "38/38 [==============================] - 0s 3ms/step - loss: 1.1030 - accuracy: 0.5042 - val_loss: 1.2328 - val_accuracy: 0.4761\n",
            "Epoch 52/125\n",
            "38/38 [==============================] - 0s 3ms/step - loss: 1.1047 - accuracy: 0.5190 - val_loss: 1.1935 - val_accuracy: 0.4641\n",
            "Epoch 53/125\n",
            "38/38 [==============================] - 0s 2ms/step - loss: 1.0789 - accuracy: 0.5369 - val_loss: 1.1932 - val_accuracy: 0.4795\n",
            "Epoch 54/125\n",
            "38/38 [==============================] - 0s 2ms/step - loss: 1.0700 - accuracy: 0.5244 - val_loss: 1.2040 - val_accuracy: 0.4692\n",
            "Epoch 55/125\n",
            "38/38 [==============================] - 0s 3ms/step - loss: 1.1086 - accuracy: 0.5061 - val_loss: 1.1571 - val_accuracy: 0.4991\n",
            "Epoch 56/125\n",
            "38/38 [==============================] - 0s 3ms/step - loss: 1.0860 - accuracy: 0.5381 - val_loss: 1.1554 - val_accuracy: 0.4863\n",
            "Epoch 57/125\n",
            "38/38 [==============================] - 0s 3ms/step - loss: 1.0619 - accuracy: 0.5365 - val_loss: 1.1506 - val_accuracy: 0.4855\n",
            "Epoch 58/125\n",
            "38/38 [==============================] - 0s 3ms/step - loss: 1.0745 - accuracy: 0.5282 - val_loss: 1.1936 - val_accuracy: 0.4607\n",
            "Epoch 59/125\n",
            "38/38 [==============================] - 0s 3ms/step - loss: 1.1132 - accuracy: 0.5080 - val_loss: 1.1548 - val_accuracy: 0.4932\n",
            "Epoch 60/125\n",
            "38/38 [==============================] - 0s 3ms/step - loss: 1.0575 - accuracy: 0.5312 - val_loss: 1.1522 - val_accuracy: 0.4923\n",
            "Epoch 61/125\n",
            "38/38 [==============================] - 0s 3ms/step - loss: 1.0550 - accuracy: 0.5474 - val_loss: 1.1693 - val_accuracy: 0.4607\n",
            "Epoch 62/125\n",
            "38/38 [==============================] - 0s 3ms/step - loss: 1.0557 - accuracy: 0.5393 - val_loss: 1.1514 - val_accuracy: 0.4880\n",
            "Epoch 63/125\n",
            "38/38 [==============================] - 0s 3ms/step - loss: 1.0667 - accuracy: 0.5338 - val_loss: 1.1574 - val_accuracy: 0.4966\n",
            "Epoch 64/125\n",
            "38/38 [==============================] - 0s 3ms/step - loss: 1.0692 - accuracy: 0.5196 - val_loss: 1.1818 - val_accuracy: 0.4906\n",
            "Epoch 65/125\n",
            "38/38 [==============================] - 0s 2ms/step - loss: 1.0707 - accuracy: 0.5376 - val_loss: 1.1558 - val_accuracy: 0.4974\n",
            "Epoch 66/125\n",
            "38/38 [==============================] - 0s 2ms/step - loss: 1.0934 - accuracy: 0.5259 - val_loss: 1.1528 - val_accuracy: 0.4974\n",
            "Epoch 67/125\n",
            "38/38 [==============================] - 0s 3ms/step - loss: 1.0809 - accuracy: 0.5183 - val_loss: 1.1537 - val_accuracy: 0.4974\n",
            "Epoch 68/125\n",
            "38/38 [==============================] - 0s 3ms/step - loss: 1.0675 - accuracy: 0.5298 - val_loss: 1.1372 - val_accuracy: 0.4991\n",
            "Epoch 69/125\n",
            "38/38 [==============================] - 0s 4ms/step - loss: 1.0607 - accuracy: 0.5392 - val_loss: 1.1448 - val_accuracy: 0.5034\n",
            "Epoch 70/125\n",
            "38/38 [==============================] - 0s 3ms/step - loss: 1.0593 - accuracy: 0.5380 - val_loss: 1.1830 - val_accuracy: 0.4915\n",
            "Epoch 71/125\n",
            "38/38 [==============================] - 0s 3ms/step - loss: 1.0490 - accuracy: 0.5320 - val_loss: 1.1488 - val_accuracy: 0.4932\n",
            "Epoch 72/125\n",
            "38/38 [==============================] - 0s 3ms/step - loss: 1.0389 - accuracy: 0.5456 - val_loss: 1.1334 - val_accuracy: 0.4923\n",
            "Epoch 73/125\n",
            "38/38 [==============================] - 0s 3ms/step - loss: 1.0728 - accuracy: 0.5299 - val_loss: 1.1425 - val_accuracy: 0.4889\n",
            "Epoch 74/125\n",
            "38/38 [==============================] - 0s 3ms/step - loss: 1.0426 - accuracy: 0.5343 - val_loss: 1.1715 - val_accuracy: 0.4915\n",
            "Epoch 75/125\n",
            "38/38 [==============================] - 0s 3ms/step - loss: 1.0515 - accuracy: 0.5489 - val_loss: 1.1654 - val_accuracy: 0.4974\n",
            "Epoch 76/125\n",
            "38/38 [==============================] - 0s 3ms/step - loss: 1.0668 - accuracy: 0.5387 - val_loss: 1.1353 - val_accuracy: 0.5017\n",
            "Epoch 77/125\n",
            "38/38 [==============================] - 0s 3ms/step - loss: 1.0392 - accuracy: 0.5397 - val_loss: 1.1361 - val_accuracy: 0.5077\n",
            "Epoch 78/125\n",
            "38/38 [==============================] - 0s 3ms/step - loss: 1.0545 - accuracy: 0.5438 - val_loss: 1.1927 - val_accuracy: 0.4692\n",
            "Epoch 79/125\n",
            "38/38 [==============================] - 0s 3ms/step - loss: 1.0913 - accuracy: 0.5248 - val_loss: 1.1721 - val_accuracy: 0.4889\n",
            "Epoch 80/125\n",
            "38/38 [==============================] - 0s 3ms/step - loss: 1.0629 - accuracy: 0.5443 - val_loss: 1.1461 - val_accuracy: 0.5017\n",
            "Epoch 81/125\n",
            "38/38 [==============================] - 0s 3ms/step - loss: 1.0518 - accuracy: 0.5334 - val_loss: 1.1338 - val_accuracy: 0.4915\n",
            "Epoch 82/125\n",
            "38/38 [==============================] - 0s 3ms/step - loss: 1.0453 - accuracy: 0.5476 - val_loss: 1.1306 - val_accuracy: 0.5017\n",
            "Epoch 83/125\n",
            "38/38 [==============================] - 0s 3ms/step - loss: 1.0293 - accuracy: 0.5424 - val_loss: 1.1475 - val_accuracy: 0.4974\n",
            "Epoch 84/125\n",
            "38/38 [==============================] - 0s 3ms/step - loss: 1.0379 - accuracy: 0.5495 - val_loss: 1.1337 - val_accuracy: 0.4915\n",
            "Epoch 85/125\n",
            "38/38 [==============================] - 0s 3ms/step - loss: 1.0275 - accuracy: 0.5536 - val_loss: 1.1313 - val_accuracy: 0.4966\n",
            "Epoch 86/125\n",
            "38/38 [==============================] - 0s 3ms/step - loss: 1.0302 - accuracy: 0.5501 - val_loss: 1.1373 - val_accuracy: 0.4983\n",
            "Epoch 87/125\n",
            "38/38 [==============================] - 0s 3ms/step - loss: 1.0228 - accuracy: 0.5528 - val_loss: 1.1268 - val_accuracy: 0.5120\n",
            "Epoch 88/125\n",
            "38/38 [==============================] - 0s 3ms/step - loss: 1.0469 - accuracy: 0.5430 - val_loss: 1.1546 - val_accuracy: 0.4872\n",
            "Epoch 89/125\n",
            "38/38 [==============================] - 0s 3ms/step - loss: 1.0557 - accuracy: 0.5491 - val_loss: 1.1208 - val_accuracy: 0.5051\n",
            "Epoch 90/125\n",
            "38/38 [==============================] - 0s 3ms/step - loss: 1.0451 - accuracy: 0.5300 - val_loss: 1.1348 - val_accuracy: 0.4949\n",
            "Epoch 91/125\n",
            "38/38 [==============================] - 0s 3ms/step - loss: 1.0326 - accuracy: 0.5482 - val_loss: 1.1472 - val_accuracy: 0.4983\n",
            "Epoch 92/125\n",
            "38/38 [==============================] - 0s 3ms/step - loss: 1.0378 - accuracy: 0.5505 - val_loss: 1.1419 - val_accuracy: 0.4957\n",
            "Epoch 93/125\n",
            "38/38 [==============================] - 0s 3ms/step - loss: 1.0446 - accuracy: 0.5339 - val_loss: 1.1466 - val_accuracy: 0.5077\n",
            "Epoch 94/125\n",
            "38/38 [==============================] - 0s 3ms/step - loss: 1.0539 - accuracy: 0.5330 - val_loss: 1.1288 - val_accuracy: 0.5145\n",
            "Epoch 95/125\n",
            "38/38 [==============================] - 0s 3ms/step - loss: 1.0508 - accuracy: 0.5401 - val_loss: 1.1426 - val_accuracy: 0.5034\n",
            "Epoch 96/125\n",
            "38/38 [==============================] - 0s 3ms/step - loss: 1.0239 - accuracy: 0.5609 - val_loss: 1.1417 - val_accuracy: 0.4863\n",
            "Epoch 97/125\n",
            "38/38 [==============================] - 0s 3ms/step - loss: 1.0375 - accuracy: 0.5421 - val_loss: 1.1328 - val_accuracy: 0.5026\n",
            "Epoch 98/125\n",
            "38/38 [==============================] - 0s 3ms/step - loss: 1.0659 - accuracy: 0.5342 - val_loss: 1.1388 - val_accuracy: 0.5000\n",
            "Epoch 99/125\n",
            "38/38 [==============================] - 0s 3ms/step - loss: 1.0146 - accuracy: 0.5504 - val_loss: 1.1439 - val_accuracy: 0.4761\n",
            "Epoch 100/125\n",
            "38/38 [==============================] - 0s 3ms/step - loss: 1.0464 - accuracy: 0.5454 - val_loss: 1.1498 - val_accuracy: 0.4983\n",
            "Epoch 101/125\n",
            "38/38 [==============================] - 0s 3ms/step - loss: 1.0384 - accuracy: 0.5414 - val_loss: 1.1503 - val_accuracy: 0.4932\n",
            "Epoch 102/125\n",
            "38/38 [==============================] - 0s 3ms/step - loss: 1.0424 - accuracy: 0.5317 - val_loss: 1.1212 - val_accuracy: 0.4983\n",
            "Epoch 103/125\n",
            "38/38 [==============================] - 0s 3ms/step - loss: 1.0353 - accuracy: 0.5504 - val_loss: 1.1306 - val_accuracy: 0.4991\n",
            "Epoch 104/125\n",
            "38/38 [==============================] - 0s 3ms/step - loss: 1.0344 - accuracy: 0.5594 - val_loss: 1.1604 - val_accuracy: 0.5060\n",
            "Epoch 105/125\n",
            "38/38 [==============================] - 0s 3ms/step - loss: 1.0376 - accuracy: 0.5452 - val_loss: 1.1188 - val_accuracy: 0.5009\n",
            "Epoch 106/125\n",
            "38/38 [==============================] - 0s 3ms/step - loss: 1.0402 - accuracy: 0.5453 - val_loss: 1.1225 - val_accuracy: 0.5128\n",
            "Epoch 107/125\n",
            "38/38 [==============================] - 0s 4ms/step - loss: 1.0322 - accuracy: 0.5392 - val_loss: 1.1627 - val_accuracy: 0.4991\n",
            "Epoch 108/125\n",
            "38/38 [==============================] - 0s 3ms/step - loss: 1.0356 - accuracy: 0.5471 - val_loss: 1.1505 - val_accuracy: 0.4974\n",
            "Epoch 109/125\n",
            "38/38 [==============================] - 0s 3ms/step - loss: 1.0432 - accuracy: 0.5339 - val_loss: 1.1220 - val_accuracy: 0.5068\n",
            "Epoch 110/125\n",
            "38/38 [==============================] - 0s 3ms/step - loss: 0.9994 - accuracy: 0.5700 - val_loss: 1.1290 - val_accuracy: 0.5051\n",
            "Epoch 111/125\n",
            "38/38 [==============================] - 0s 3ms/step - loss: 1.0101 - accuracy: 0.5464 - val_loss: 1.1170 - val_accuracy: 0.5043\n",
            "Epoch 112/125\n",
            "38/38 [==============================] - 0s 3ms/step - loss: 1.0186 - accuracy: 0.5483 - val_loss: 1.1259 - val_accuracy: 0.5043\n",
            "Epoch 113/125\n",
            "38/38 [==============================] - 0s 3ms/step - loss: 1.0298 - accuracy: 0.5545 - val_loss: 1.1631 - val_accuracy: 0.4880\n",
            "Epoch 114/125\n",
            "38/38 [==============================] - 0s 3ms/step - loss: 1.0575 - accuracy: 0.5359 - val_loss: 1.1215 - val_accuracy: 0.5094\n",
            "Epoch 115/125\n",
            "38/38 [==============================] - 0s 3ms/step - loss: 1.0274 - accuracy: 0.5614 - val_loss: 1.1535 - val_accuracy: 0.4872\n",
            "Epoch 116/125\n",
            "38/38 [==============================] - 0s 3ms/step - loss: 1.0325 - accuracy: 0.5456 - val_loss: 1.1744 - val_accuracy: 0.4983\n",
            "Epoch 117/125\n",
            "38/38 [==============================] - 0s 3ms/step - loss: 1.0369 - accuracy: 0.5468 - val_loss: 1.1315 - val_accuracy: 0.5085\n",
            "Epoch 118/125\n",
            "38/38 [==============================] - 0s 3ms/step - loss: 1.0302 - accuracy: 0.5491 - val_loss: 1.1308 - val_accuracy: 0.4966\n",
            "Epoch 119/125\n",
            "38/38 [==============================] - 0s 3ms/step - loss: 1.0237 - accuracy: 0.5528 - val_loss: 1.1704 - val_accuracy: 0.4778\n",
            "Epoch 120/125\n",
            "38/38 [==============================] - 0s 3ms/step - loss: 1.0918 - accuracy: 0.5261 - val_loss: 1.1490 - val_accuracy: 0.4957\n",
            "Epoch 121/125\n",
            "38/38 [==============================] - 0s 3ms/step - loss: 1.0332 - accuracy: 0.5483 - val_loss: 1.1216 - val_accuracy: 0.5043\n",
            "Epoch 122/125\n",
            "38/38 [==============================] - 0s 3ms/step - loss: 1.0397 - accuracy: 0.5412 - val_loss: 1.1308 - val_accuracy: 0.5051\n",
            "Epoch 123/125\n",
            "38/38 [==============================] - 0s 3ms/step - loss: 1.0294 - accuracy: 0.5522 - val_loss: 1.1234 - val_accuracy: 0.5000\n",
            "Epoch 124/125\n",
            "38/38 [==============================] - 0s 4ms/step - loss: 1.0349 - accuracy: 0.5476 - val_loss: 1.1383 - val_accuracy: 0.4983\n",
            "Epoch 125/125\n",
            "38/38 [==============================] - 0s 3ms/step - loss: 1.0302 - accuracy: 0.5513 - val_loss: 1.1146 - val_accuracy: 0.5128\n"
          ],
          "name": "stdout"
        }
      ]
    },
    {
      "cell_type": "markdown",
      "metadata": {
        "id": "l7lmeVpLjAY-"
      },
      "source": [
        "Let's define a function to visualize our loss"
      ]
    },
    {
      "cell_type": "code",
      "metadata": {
        "id": "f8xoV-ZxjAY-",
        "colab": {
          "base_uri": "https://localhost:8080/",
          "height": 278
        },
        "outputId": "d34a0e9d-c608-46a3-c573-2ba2a34785e6"
      },
      "source": [
        "def show_loss(history):\n",
        "    plt.figure()\n",
        "    plt.plot(history.history['val_loss'], label=\"val loss\")\n",
        "    plt.plot(history.history['loss'],label=\"train loss\")\n",
        "    plt.xlabel(\"Epoch\")\n",
        "    plt.ylabel(\"Loss\")\n",
        "    plt.legend()\n",
        "show_loss(history)"
      ],
      "execution_count": 134,
      "outputs": [
        {
          "output_type": "display_data",
          "data": {
            "image/png": "[encoded data removed]",
            "text/plain": [
              "<Figure size 432x288 with 1 Axes>"
            ]
          },
          "metadata": {
            "tags": [],
            "needs_background": "light"
          }
        }
      ]
    },
    {
      "cell_type": "markdown",
      "metadata": {
        "id": "fb1K-sK_jAY_"
      },
      "source": [
        "It looks like our training loss is more or less monotonically minimized with each epoch (with some fluctuations) while the validation loss seems to be on average higher. The validation loss spikes more severely than the training loss, which is probably due to limited statistics (we only had ~6k samples and took onlt 20% of them for validation - it usually takes LOTS of data to train neural networks well!). The trend discrepancy between training and validation losses could indicate some overfitting in our model. What happens if you increase the percentage of data used for validation? Since it's pretty apparent we're overfitting to our training data, we could introduce some sort of regularization techniques, like L2 regularization (that penalizes large weights) or dropout (that randomly drops neurons in a layer with a set probability). What happens if you introduce some of these methods?"
      ]
    },
    {
      "cell_type": "markdown",
      "metadata": {
        "id": "fbbcj2xdjAY_"
      },
      "source": [
        "### Remember that test data we set aside at the beginning?\n",
        "Now it's time to use it to evaluate our model performance!"
      ]
    },
    {
      "cell_type": "code",
      "metadata": {
        "scrolled": true,
        "id": "5xqk7xKgjAZA",
        "colab": {
          "base_uri": "https://localhost:8080/"
        },
        "outputId": "47d76472-6d9f-4919-d409-c9e7ffce9b21"
      },
      "source": [
        "_, acc = model.evaluate(df_test, df_testLabels, verbose=1)\n",
        "print('Accuracy for test data is',acc)"
      ],
      "execution_count": 135,
      "outputs": [
        {
          "output_type": "stream",
          "text": [
            "21/21 [==============================] - 0s 1ms/step - loss: 1.1089 - accuracy: 0.5385\n",
            "Accuracy for test data is 0.5384615659713745\n"
          ],
          "name": "stdout"
        }
      ]
    },
    {
      "cell_type": "markdown",
      "metadata": {
        "id": "chaix5utjAZA"
      },
      "source": [
        "To plot our results, I just chose the highest probability of the classes and assigned the prediction to a class based on that rounding (highest probability gets a 1, every other class gets a 0). Then, I one-hot decoded the rounded array to get a single number for the class. "
      ]
    },
    {
      "cell_type": "code",
      "metadata": {
        "id": "6Q28CDz0jAZA",
        "colab": {
          "base_uri": "https://localhost:8080/",
          "height": 294
        },
        "outputId": "d3ce48bc-37b1-4297-d4af-1180033eedcf"
      },
      "source": [
        "preds = model.predict(df_test)\n",
        "#preds = [i.round() for i in preds]\n",
        "preds = tf.one_hot(tf.math.argmax(preds, axis= 1),depth= len(preds[0]))\n",
        "\n",
        "preds = enc.inverse_transform(preds)\n",
        "testLabels = enc.inverse_transform(df_testLabels)\n",
        "cm = confusion_matrix(testLabels, preds)\n",
        "\n",
        "_ =plt.imshow(cm, cmap=plt.cm.Blues)\n",
        "_ = plt.xlabel(\"Predicted labels\")\n",
        "_ = plt.ylabel(\"True labels\")\n",
        "\n",
        "_ =plt.xticks(np.arange(0,len(np.unique(testLabels)),1),np.unique(testLabels))\n",
        "_ =plt.yticks(np.arange(0,len(np.unique(testLabels)),1),np.unique(testLabels))\n",
        "_ =plt.title('Confusion matrix ')\n",
        "_ =plt.colorbar()\n",
        "plt.show()"
      ],
      "execution_count": 136,
      "outputs": [
        {
          "output_type": "display_data",
          "data": {
            "image/png": "[encoded data removed]",
            "text/plain": [
              "<Figure size 432x288 with 2 Axes>"
            ]
          },
          "metadata": {
            "tags": [],
            "needs_background": "light"
          }
        }
      ]
    },
    {
      "cell_type": "markdown",
      "metadata": {
        "id": "dYfjnqW9jAZB"
      },
      "source": [
        "It looks like our network is only predicting *some* of our classes. Maybe that's because really good wine (rated 8 and 9) is pretty rare? Let's check it out."
      ]
    },
    {
      "cell_type": "code",
      "metadata": {
        "id": "G7HJdIVNjAZB",
        "colab": {
          "base_uri": "https://localhost:8080/",
          "height": 264
        },
        "outputId": "4cada592-d396-43c2-8898-037a19ad21d3"
      },
      "source": [
        "_=plt.hist(enc.inverse_transform(labels),label='training labels')\n",
        "_=plt.hist(testLabels,label='test labels')\n",
        "_=plt.yscale('log')\n",
        "_=plt.legend()"
      ],
      "execution_count": 137,
      "outputs": [
        {
          "output_type": "display_data",
          "data": {
            "image/png": "[encoded data removed]",
            "text/plain": [
              "<Figure size 432x288 with 1 Axes>"
            ]
          },
          "metadata": {
            "tags": [],
            "needs_background": "light"
          }
        }
      ]
    },
    {
      "cell_type": "markdown",
      "metadata": {
        "id": "lbCY2lGYjAZC"
      },
      "source": [
        "Yep! Mostly 5s, 6s, and 7s. Only a handful of really good wines (8s and 9s) and really bad wines (3s and 4s). In fact, no scores below a 3! But no perfect 10s either. Overall, I would say that the dataset is imbalanced (mostly ok wines, some bad and some good - a pretty Gaussian distribution) and could benefit from data augmentation techniques like bootstrapping! Maybe you could even generate some more data from randomly sampling a known distribution...But if you train your model on mostly ok wines, then it learns the characteristics of those wines really well. So, when it's faced with a good or bad wine, it's not as sure how to classify it. You can see if this is happening by looking at the network output, which are the probabilities for each class (ie how sure the network is this sample belongs to a certain class)."
      ]
    },
    {
      "cell_type": "markdown",
      "metadata": {
        "id": "o7L84c3hjAZC"
      },
      "source": [
        "### Overall, \n",
        "our network performs ok with a training, validation, and test accuracy all around 50-60%. What could you change about the network or inputs? How do you think that would affect the model's predictions?\n",
        "\n",
        "\n",
        "We would change the number of layers in the network which might increase the accuracy. We could also use larger training data sets to improve the result. Additionally, we could have been using larger number of features which might have affected the result.\n",
        "\n",
        "\n",
        "The best result I could get was test accuracy of 53.8% for validation split = 0.2 , batch size =125. I added a layer but it only reduced the accuracy. Also I tried 32 (best result) and 128 neurons per layers.\n"
      ]
    },
    {
      "cell_type": "code",
      "metadata": {
        "id": "DH_r7NHZjAZD"
      },
      "source": [
        ""
      ],
      "execution_count": 137,
      "outputs": []
    }
  ]
}